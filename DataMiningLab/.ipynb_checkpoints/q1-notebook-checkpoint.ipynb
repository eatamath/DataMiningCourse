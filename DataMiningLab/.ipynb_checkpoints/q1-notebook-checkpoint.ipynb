{
 "cells": [
  {
   "cell_type": "code",
   "execution_count": 2,
   "metadata": {},
   "outputs": [
    {
     "name": "stdout",
     "output_type": "stream",
     "text": [
      "CTree.py init\n",
      "columns {'uid': 'uid', 'tran_time': 'sldatime', 'gender_age': 'cmrid', 'vipno': 'vipno', 'itemno': 'pluno', 'amount': 'amt', 'quantity': 'qty', 'brandno': 'bndno', 'class1': 'class1', 'class2': 'class2', 'class3': 'class3', 'class4': 'class4', 'class5': 'class5'}\n"
     ]
    }
   ],
   "source": [
    "import pandas as pd\n",
    "import numpy as np\n",
    "from numpy.linalg import *\n",
    "import scipy as sp\n",
    "import matplotlib.pyplot as plt\n",
    "import os\n",
    "import seaborn as sns\n",
    "from sklearn.decomposition import *\n",
    "from sklearn.metrics import *\n",
    "from sklearn.neighbors import *\n",
    "from collections import *\n",
    "from pyclust import *\n",
    "from sklearn.manifold import *\n",
    "from sklearn.cluster import KMeans\n",
    "from module.EKmeans import *\n",
    "from module.CTree import *\n",
    "import datetime\n",
    "from collections import *\n",
    "\n",
    "DATA_PATH = './trade_new.csv'\n",
    "\n",
    "_col = {\n",
    "    'uid':'uid',\n",
    "    'tran_time':'sldatime', #\n",
    "    'gender_age':'cmrid',\n",
    "    'vipno':'vipno', #\n",
    "    'itemno':'pluno', #\n",
    "    'amount':'amt', #\n",
    "    'quantity':'qty', #\n",
    "    'brandno':'bndno', #\n",
    "}\n",
    "\n",
    "_col_class = {\n",
    "    'class1':'class1',\n",
    "    'class2':'class2',\n",
    "    'class3':'class3',\n",
    "    'class4':'class4',\n",
    "    'class5':'class5',\n",
    "}\n",
    "\n",
    "_col2 ={**_col,**_col_class}\n",
    "\n",
    "print('columns',_col2)"
   ]
  },
  {
   "cell_type": "markdown",
   "metadata": {},
   "source": [
    "第一问"
   ]
  },
  {
   "cell_type": "code",
   "execution_count": 3,
   "metadata": {},
   "outputs": [],
   "source": [
    "df = pd.read_csv(DATA_PATH)\n",
    "df = df[_col.values()]\n",
    "new_df = pd.DataFrame([],columns=_col2.values())\n",
    "\n",
    "\n",
    "category = df[_col2['itemno']].values.astype('str')\n",
    "category = np.array(list(map(lambda x:np.array([x[:2],x[:3],x[:4],x[:5],x[5:]]),category)))\n",
    "category = pd.DataFrame(category,columns=_col_class.values())\n",
    "if (category.index.start == df.index.start) and \\\n",
    "    (category.index.stop == df.index.stop):\n",
    "    new_df = df.join(category)\n",
    "\n",
    "df_amount_sum = new_df.groupby([_col2['vipno'],_col2['class1'],_col2['class2'],_col2['class3'],_col2['class4']],as_index=False).agg({\n",
    "    _col2['amount']:sum\n",
    "})\n",
    "df_amount_sum3 = new_df.groupby([_col2['vipno'],_col2['class1'],_col2['class2'],_col2['class3']],as_index=False).agg({\n",
    "    _col2['amount']:sum\n",
    "})\n",
    "df_amount_sum2 = new_df.groupby([_col2['vipno'],_col2['class1'],_col2['class2']],as_index=False).agg({\n",
    "    _col2['amount']:sum\n",
    "})\n",
    "df_amount_sum1 = new_df.groupby([_col2['vipno'],_col2['class1']],as_index=False).agg({\n",
    "    _col2['amount']:sum\n",
    "})\n",
    "df_amount = [df_amount_sum1, df_amount_sum2, df_amount_sum3, df_amount_sum]\n",
    "del df\n",
    "# df_amount_sum.to_csv('./result/a1-amount_sum.csv')"
   ]
  },
  {
   "cell_type": "markdown",
   "metadata": {},
   "source": [
    "第二问"
   ]
  },
  {
   "cell_type": "code",
   "execution_count": 4,
   "metadata": {},
   "outputs": [],
   "source": [
    "set_vipno = set(df_amount_sum[_col2['vipno']])\n",
    "mapping_index_v = {i:idx for (idx,i) in zip(range(len(set_vipno)),set_vipno)}\n",
    "\n",
    "\n",
    "def aggByUser(category='class4'):\n",
    "    global set_vipno,df_amount,_col2\n",
    "    map_single = {v:{} for v in set_vipno}\n",
    "    df_temp = df_amount[ int(category[-1])-1 ]\n",
    "    for v in set_vipno:\n",
    "        lst_v = df_temp.loc[ df_temp[_col2['vipno']]==v ]\n",
    "        for idx,row in lst_v.iterrows():\n",
    "            map_single[v][ row[ _col2[ category ] ] ] = row[ _col2['amount'] ]\n",
    "    return map_single\n",
    "\n",
    "\n",
    "def computeUserFeatureOfClass(category='class4'):\n",
    "    global df_amount,mapping_index_v,_col2\n",
    "    set_class_i = set(new_df[_col2[ category ]])\n",
    "    mapping_index_class_i = {i:idx for (idx,i) in zip(range(len(set_class_i)),set_class_i)}\n",
    "    mat_userFeature = np.array([[0.0 for i in range(len(set_class_i))] for j in range(len(set_vipno))])\n",
    "    for idx,r in df_amount[ int(category[-1])-1 ].iterrows():\n",
    "        mat_userFeature[ mapping_index_v[ r[ _col2['vipno'] ] ] ][ mapping_index_class_i[ r[ _col2[category] ] ] ] = r[ _col2['amount'] ]\n",
    "    return mat_userFeature\n",
    "\n",
    "\n",
    "def computeJaccardDistance(a,b):\n",
    "    return 1-np.sum(np.min([a,b],0))/np.sum(np.max([a,b],0))\n",
    "\n",
    "\n",
    "def computeJaccardMatrix(mat_userFeature):\n",
    "    global set_vipno,map_single,mapping_index_v,D\n",
    "    mat_jaccard = np.array([[0 for i in range(len(set_vipno))] for j in range(len(set_vipno))]).astype('float')\n",
    "    for v1 in set_vipno:\n",
    "        for v2 in set_vipno:\n",
    "            jaccard_pairwise_dist = compute_distance(a=mat_userFeature[mapping_index_v[v1]],b=mat_userFeature[mapping_index_v[v2]],D=D,metric='jaccard')\n",
    "            mat_jaccard[mapping_index_v[v1]][mapping_index_v[v2]] = mat_jaccard[mapping_index_v[v2]][mapping_index_v[v1]] = jaccard_pairwise_dist\n",
    "    return mat_jaccard\n",
    "\n",
    "def compute_distance(a,b,D,metric='jaccard'):\n",
    "    if metric=='jaccard':\n",
    "        return computeJaccardDistance(a,b)\n",
    "    elif metric=='euclidean':\n",
    "        return norm(a-b)\n",
    "    elif metric=='cos':\n",
    "        score = [computeJaccardDistance(a[:D[0]],b[:D[0]]),\n",
    "                computeJaccardDistance(a[D[0]:D[1]],b[D[0]:D[1]]),\n",
    "                computeJaccardDistance(a[D[1]:D[2]],b[D[1]:D[2]]),\n",
    "                computeJaccardDistance(a[D[2]:D[3]],b[D[2]:D[3]])]\n",
    "#             print(score)\n",
    "        return sum(score)/4"
   ]
  },
  {
   "cell_type": "code",
   "execution_count": 5,
   "metadata": {},
   "outputs": [],
   "source": [
    "mat_userFeature = computeUserFeatureOfClass('class4')"
   ]
  },
  {
   "cell_type": "code",
   "execution_count": 6,
   "metadata": {},
   "outputs": [],
   "source": [
    "D = None\n",
    "mat_jaccard = computeJaccardMatrix(mat_userFeature)"
   ]
  },
  {
   "cell_type": "code",
   "execution_count": 7,
   "metadata": {},
   "outputs": [
    {
     "data": {
      "text/plain": [
       "Text(0.5, 1.0, '1-Jaccard Distance Distribution')"
      ]
     },
     "execution_count": 7,
     "metadata": {},
     "output_type": "execute_result"
    },
    {
     "data": {
      "image/png": "[encoded data removed]",
      "text/plain": [
       "<Figure size 432x288 with 1 Axes>"
      ]
     },
     "metadata": {
      "needs_background": "light"
     },
     "output_type": "display_data"
    }
   ],
   "source": [
    "d = mat_jaccard\n",
    "d = d.ravel()\n",
    "plt.figure()\n",
    "sns.distplot(d,bins=50)\n",
    "plt.xlabel('distance')\n",
    "plt.ylabel('frequency')\n",
    "plt.title('1-Jaccard Distance Distribution')"
   ]
  },
  {
   "cell_type": "markdown",
   "metadata": {},
   "source": [
    "第三问"
   ]
  },
  {
   "cell_type": "code",
   "execution_count": 11,
   "metadata": {},
   "outputs": [],
   "source": [
    "class EKmeans():\n",
    "    def __init__(self,X,D,method='jaccard',n_centers=2,max_iters=1000,tol=1e-20,verbose=0):\n",
    "        self.n_centers = n_centers\n",
    "        self.max_iters = max_iters\n",
    "        self.D = D\n",
    "        self.method = method\n",
    "        self.X = X\n",
    "        self.clusters = np.array([-1 for i in range(X.shape[0])])\n",
    "        self.centers = self.X[np.random.permutation(X.shape[0])[:self.n_centers]]\n",
    "        self.pre_centers = []\n",
    "        self.debug = []\n",
    "        self.lr = 0.34\n",
    "        self.tol = tol\n",
    "        self.verbose = verbose\n",
    "        return\n",
    "    \n",
    "    def metrics_compactness(self):\n",
    "        s = 0.0\n",
    "        for c in range(self.n_centers):\n",
    "            idx_cluster = np.where(self.clusters==c)[0]\n",
    "            for a in self.X[ idx_cluster ]:\n",
    "                dst = compute_distance(a=a,b=self.centers[c],D=self.D,metric=self.method)\n",
    "                s += dst*1.0/len(idx_cluster)\n",
    "        return s\n",
    "                \n",
    "    def __update_centers(self,smooth=True):\n",
    "        self.pre_centers = np.array(self.centers)\n",
    "        for c in range(self.n_centers):\n",
    "            temp = self.X[ np.where(self.clusters==c)[0] ]\n",
    "            if len(temp):\n",
    "                self.centers[c] = np.array([ np.mean( temp, 0 ) ])\n",
    "        if smooth:\n",
    "            self.centers = (self.centers-self.pre_centers)*self.lr + self.pre_centers\n",
    "        return\n",
    "    \n",
    "    def __log(self,x):\n",
    "        if self.verbose:\n",
    "            print(x)\n",
    "        return\n",
    "    \n",
    "    def fit(self):\n",
    "        for kiter in range(self.max_iters):\n",
    "            self.__log('iteration %d'%kiter)\n",
    "            for i in range(self.X.shape[0]):\n",
    "                d_min_dist = 1e10\n",
    "                record_node = -1\n",
    "                for idx,c in zip(range(len(self.centers)),self.centers):\n",
    "                    dst = compute_distance(a=self.X[i],b=c,D=self.D,metric=self.method)\n",
    "                    if dst<d_min_dist:\n",
    "                        d_min_dist = dst\n",
    "                        record_node = idx\n",
    "                self.clusters[i] = record_node\n",
    "            self.__update_centers()\n",
    "            move_dist = np.mean(norm(self.pre_centers-self.centers,axis=1))\n",
    "            self.debug.append(move_dist)\n",
    "            if (kiter - kiter//20 *20 ==1) and move_dist<self.tol:\n",
    "                break\n",
    "            if kiter==10:\n",
    "                pass\n",
    "        return"
   ]
  },
  {
   "cell_type": "code",
   "execution_count": 12,
   "metadata": {},
   "outputs": [],
   "source": [
    "def KmeansCluster(n_centers,method='cos',max_iters=500):\n",
    "    global mat_userFeature,D\n",
    "    if method=='jaccard':\n",
    "        kmeans = EKmeans(mat_userFeature[-1],None,n_centers=n_centers,max_iters=max_iters)\n",
    "    elif method=='cos':\n",
    "        kmeans = EKmeans(np.hstack(mat_userFeature),D,n_centers=n_centers,max_iters=max_iters,method='cos')\n",
    "    elif method=='euclidean':\n",
    "        kmeans = EKmeans(mat_userFeature[-1],None,n_centers=n_centers,max_iters=max_iters,method='euclidean')\n",
    "    kmeans.fit()\n",
    "    return kmeans"
   ]
  },
  {
   "cell_type": "code",
   "execution_count": 13,
   "metadata": {},
   "outputs": [
    {
     "name": "stdout",
     "output_type": "stream",
     "text": [
      "param  2\n",
      "param  3\n",
      "param  4\n",
      "param  5\n",
      "param  6\n",
      "param  7\n",
      "param  8\n",
      "param  9\n",
      "param  10\n",
      "param  11\n",
      "param  12\n",
      "param  13\n",
      "param  14\n",
      "param  15\n",
      "param  16\n",
      "param  17\n",
      "param  18\n",
      "param  19\n"
     ]
    }
   ],
   "source": [
    "mat_userFeature = [computeUserFeatureOfClass('class1'),\n",
    "                   computeUserFeatureOfClass('class2'),\n",
    "                   computeUserFeatureOfClass('class3'),\n",
    "                   computeUserFeatureOfClass('class4')\n",
    "                  ]\n",
    "res = []\n",
    "for nn in range(2,20):\n",
    "    print('param ',nn)\n",
    "    kmeans = KmeansCluster(nn,'jaccard',1000)\n",
    "    sil = silhouette_score(mat_jaccard,labels=kmeans.clusters,metric='precomputed')\n",
    "    com = kmeans.metrics_compactness() \n",
    "    res.append({'sil':sil,'com':com,'nn':nn})\n",
    "    \n"
   ]
  },
  {
   "cell_type": "code",
   "execution_count": 14,
   "metadata": {},
   "outputs": [
    {
     "name": "stdout",
     "output_type": "stream",
     "text": [
      "{'sil': 0.007610753245970855, 'com': 1.869843470755909, 'nn': 2}\n",
      "{'sil': 0.010332723296873228, 'com': 2.790711173708524, 'nn': 3}\n",
      "{'sil': 0.009628682459347955, 'com': 3.7024883305313403, 'nn': 4}\n",
      "{'sil': 0.010051255556579855, 'com': 4.636470124953068, 'nn': 5}\n",
      "{'sil': 0.01089607675726066, 'com': 5.495188622333691, 'nn': 6}\n",
      "{'sil': 0.009026469507654717, 'com': 6.439431574505368, 'nn': 7}\n",
      "{'sil': 0.009957522334465898, 'com': 7.333609698513056, 'nn': 8}\n",
      "{'sil': 0.01006949705055751, 'com': 8.256420216087855, 'nn': 9}\n",
      "{'sil': 0.010490926790739093, 'com': 9.128690542475722, 'nn': 10}\n",
      "{'sil': 0.011369810657659525, 'com': 10.004972956095543, 'nn': 11}\n",
      "{'sil': 0.010551375052051873, 'com': 10.865682833417736, 'nn': 12}\n",
      "{'sil': 0.010370364191472518, 'com': 11.842341825818261, 'nn': 13}\n",
      "{'sil': 0.01124552094378586, 'com': 12.71626284081211, 'nn': 14}\n",
      "{'sil': 0.00996301187895114, 'com': 13.539984414863588, 'nn': 15}\n",
      "{'sil': 0.010747725054148824, 'com': 14.373044794755902, 'nn': 16}\n",
      "{'sil': 0.011103099053603826, 'com': 15.243828918885209, 'nn': 17}\n",
      "{'sil': 0.011760865042085105, 'com': 16.136064408983916, 'nn': 18}\n",
      "{'sil': 0.012561003429866196, 'com': 16.729991877909672, 'nn': 19}\n"
     ]
    }
   ],
   "source": [
    "_ = [print(r) for r in res]"
   ]
  },
  {
   "cell_type": "code",
   "execution_count": 13,
   "metadata": {},
   "outputs": [],
   "source": [
    "res = a"
   ]
  },
  {
   "cell_type": "code",
   "execution_count": 16,
   "metadata": {},
   "outputs": [
    {
     "data": {
      "text/plain": [
       "Text(0.5, 1.0, '1-Jaccard Kmeans')"
      ]
     },
     "execution_count": 16,
     "metadata": {},
     "output_type": "execute_result"
    },
    {
     "data": {
      "image/png": "[encoded data removed]",
      "text/plain": [
       "<Figure size 432x288 with 1 Axes>"
      ]
     },
     "metadata": {
      "needs_background": "light"
     },
     "output_type": "display_data"
    }
   ],
   "source": [
    "X = np.array([[r['nn'],r['sil'],r['com']] for r in res])\n",
    "sns.lineplot(x=X[:,0],y=X[:,1])\n",
    "plt.xlabel('k parameter')\n",
    "plt.ylabel('silhouette score')\n",
    "plt.title('1-Jaccard Kmeans')"
   ]
  },
  {
   "cell_type": "code",
   "execution_count": 17,
   "metadata": {},
   "outputs": [
    {
     "data": {
      "text/plain": [
       "Text(0.5, 1.0, '1-Jaccard Kmeans')"
      ]
     },
     "execution_count": 17,
     "metadata": {},
     "output_type": "execute_result"
    },
    {
     "data": {
      "image/png": "[encoded data removed]",
      "text/plain": [
       "<Figure size 432x288 with 1 Axes>"
      ]
     },
     "metadata": {
      "needs_background": "light"
     },
     "output_type": "display_data"
    }
   ],
   "source": [
    "X = np.array([[r['nn'],r['sil'],r['com']] for r in res])\n",
    "sns.lineplot(x=X[:,0],y=X[:,2])\n",
    "plt.xlabel('k parameter')\n",
    "plt.ylabel('compactness score')\n",
    "plt.title('1-Jaccard Kmeans')"
   ]
  }
 ],
 "metadata": {
  "kernelspec": {
   "display_name": "Python 3",
   "language": "python",
   "name": "python3"
  },
  "language_info": {
   "codemirror_mode": {
    "name": "ipython",
    "version": 3
   },
   "file_extension": ".py",
   "mimetype": "text/x-python",
   "name": "python",
   "nbconvert_exporter": "python",
   "pygments_lexer": "ipython3",
   "version": "3.7.6"
  }
 },
 "nbformat": 4,
 "nbformat_minor": 4
}
